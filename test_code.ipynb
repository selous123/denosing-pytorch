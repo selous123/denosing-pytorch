{
 "cells": [
  {
   "cell_type": "code",
   "execution_count": 7,
   "metadata": {},
   "outputs": [
    {
     "name": "stdout",
     "output_type": "stream",
     "text": [
      "tensor([-1.0000, -0.8667, -0.7333, -0.6000, -0.4667, -0.3333, -0.2000, -0.0667,\n",
      "         0.0667,  0.2000,  0.3333,  0.4667,  0.6000,  0.7333,  0.8667,  1.0000])\n",
      "tensor([[-1.0000],\n",
      "        [-0.8667],\n",
      "        [-0.7333],\n",
      "        [-0.6000],\n",
      "        [-0.4667],\n",
      "        [-0.3333],\n",
      "        [-0.2000],\n",
      "        [-0.0667],\n",
      "        [ 0.0667],\n",
      "        [ 0.2000],\n",
      "        [ 0.3333],\n",
      "        [ 0.4667],\n",
      "        [ 0.6000],\n",
      "        [ 0.7333],\n",
      "        [ 0.8667],\n",
      "        [ 1.0000]])\n",
      "tensor([[-2.5206e+10],\n",
      "        [-2.5206e+10],\n",
      "        [-2.5206e+10],\n",
      "        [-2.5206e+10],\n",
      "        [-2.5206e+10],\n",
      "        [-2.5206e+10],\n",
      "        [-2.5206e+10],\n",
      "        [-2.5206e+10],\n",
      "        [-2.5206e+10],\n",
      "        [-2.5206e+10],\n",
      "        [-2.5206e+10],\n",
      "        [-2.5206e+10],\n",
      "        [-2.5206e+10],\n",
      "        [-2.5206e+10],\n",
      "        [-2.5206e+10],\n",
      "        [-2.5206e+10]])\n",
      "torch.Size([2, 16, 1])\n"
     ]
    },
    {
     "name": "stderr",
     "output_type": "stream",
     "text": [
      "/home/lrh/anaconda3/lib/python3.7/site-packages/ipykernel_launcher.py:6: UserWarning: torch.range is deprecated in favor of torch.arange and will be removed in 0.5. Note that arange generates values in [start; end), not [start; end].\n",
      "  \n",
      "/home/lrh/anaconda3/lib/python3.7/site-packages/ipykernel_launcher.py:8: UserWarning: torch.range is deprecated in favor of torch.arange and will be removed in 0.5. Note that arange generates values in [start; end), not [start; end].\n",
      "  \n"
     ]
    }
   ],
   "source": [
    "import torch\n",
    "height = width = 16\n",
    "\n",
    "height_gap = 2 / (height - 1)\n",
    "width_gap = 2 / (width - 1)\n",
    "height, width = torch.meshgrid([torch.range(-1, 1, height_gap), torch.Tensor(1)])\n",
    "\n",
    "print(torch.range(-1, 1, height_gap))\n",
    "print(height)\n",
    "\n",
    "print(width)\n",
    "\n",
    "lr_identity = torch.stack([width, height])\n",
    "\n",
    "\n",
    "print(lr_identity.shape)"
   ]
  },
  {
   "cell_type": "code",
   "execution_count": 8,
   "metadata": {},
   "outputs": [
    {
     "name": "stdout",
     "output_type": "stream",
     "text": [
      "b 2\n",
      "c 10\n"
     ]
    }
   ],
   "source": [
    "a = {}\n",
    "a['b'] = 2\n",
    "a['c'] = 10\n",
    "\n",
    "for k,v in a.items():\n",
    "    print(k,v)"
   ]
  },
  {
   "cell_type": "code",
   "execution_count": 27,
   "metadata": {},
   "outputs": [
    {
     "name": "stdout",
     "output_type": "stream",
     "text": [
      "(1, 2, 3, 4)\n"
     ]
    }
   ],
   "source": [
    "a = [1,2,3,4]\n",
    "def func(a):\n",
    "    yield a[0], a[1], a[2], a[3]\n",
    "    \n",
    "for i in func(a):\n",
    "    print(i)"
   ]
  },
  {
   "cell_type": "code",
   "execution_count": 10,
   "metadata": {},
   "outputs": [
    {
     "name": "stdout",
     "output_type": "stream",
     "text": [
      "{1, 2, 3, 4}\n",
      "1\n",
      "1\n",
      "2\n",
      "3\n"
     ]
    }
   ],
   "source": [
    "a = [1,2,3,4]\n",
    "print(set(a))\n",
    "def func(a):\n",
    "    yield a[0]\n",
    "    for i in range(len(a[1:])):\n",
    "        yield a[i]\n",
    "    \n",
    "for i in func(a):\n",
    "    print(i)"
   ]
  },
  {
   "cell_type": "code",
   "execution_count": 8,
   "metadata": {},
   "outputs": [
    {
     "name": "stdout",
     "output_type": "stream",
     "text": [
      "True\n"
     ]
    }
   ],
   "source": [
    "a = True\n",
    "b = True\n",
    "\n",
    "a and b\n",
    "\n",
    "\n",
    "import random\n",
    "a = random.random()\n",
    "print(a < 0.5)\n",
    "\n",
    "b = b and random.random() < 0.5"
   ]
  },
  {
   "cell_type": "code",
   "execution_count": 33,
   "metadata": {},
   "outputs": [
    {
     "name": "stdout",
     "output_type": "stream",
     "text": [
      "tensor([[[0.1125, 0.0370, 0.6710, 0.5348, 0.2894, 0.0667, 0.8933],\n",
      "         [0.3755, 0.0887, 0.2387, 0.1364, 0.8433, 0.7600, 0.1243]],\n",
      "\n",
      "        [[0.5831, 0.8836, 0.1273, 0.1217, 0.4045, 0.5854, 0.7010],\n",
      "         [0.4792, 0.2392, 0.5454, 0.1688, 0.6365, 0.1348, 0.4151]],\n",
      "\n",
      "        [[0.3612, 0.9961, 0.6048, 0.1472, 0.2493, 0.0070, 0.1248],\n",
      "         [0.5126, 0.4510, 0.1868, 0.2796, 0.9079, 0.4147, 0.4538]],\n",
      "\n",
      "        [[0.7900, 0.3607, 0.0517, 0.5220, 0.5259, 0.4017, 0.4916],\n",
      "         [0.0316, 0.8550, 0.5969, 0.3263, 0.8754, 0.4712, 0.7224]],\n",
      "\n",
      "        [[0.6447, 0.5663, 0.3825, 0.6076, 0.1682, 0.6950, 0.5634],\n",
      "         [0.5846, 0.8258, 0.8737, 0.4210, 0.7571, 0.5408, 0.4368]]])\n",
      "tensor([[3, 2, 0, 4, 3, 4, 0],\n",
      "        [4, 3, 4, 4, 2, 0, 3]])\n",
      "tensor([0.9961, 0.9079])\n",
      "tensor([1, 4])\n",
      "tensor(1)\n",
      "tensor(2)\n",
      "tensor(0.9961)\n"
     ]
    }
   ],
   "source": [
    "import torch\n",
    "idx_data = 0\n",
    "a = torch.rand([5,2,7])\n",
    "print(a)\n",
    "b, epoch_idx = a.max(0)\n",
    "best, frame_idx = b.max(1)\n",
    "print(epoch_idx)\n",
    "print(best)\n",
    "print(frame_idx)\n",
    "\n",
    "\n",
    "best_frame_idx = frame_idx[idx_data]\n",
    "print(best_frame_idx)\n",
    "best_epoch_idx = epoch_idx[idx_data, frame_idx[idx_data]]\n",
    "print(best_epoch_idx)\n",
    "\n",
    "print(a[best_epoch_idx, idx_data, best_frame_idx])"
   ]
  },
  {
   "cell_type": "code",
   "execution_count": 44,
   "metadata": {},
   "outputs": [
    {
     "name": "stdout",
     "output_type": "stream",
     "text": [
      "frame10\n"
     ]
    }
   ],
   "source": [
    "a = '10'\n",
    "\n",
    "try:\n",
    "    print(\"frame\" + str(a))\n",
    "except:\n",
    "    raise TypeError(\"a should be int type\")"
   ]
  },
  {
   "cell_type": "code",
   "execution_count": 46,
   "metadata": {},
   "outputs": [
    {
     "name": "stdout",
     "output_type": "stream",
     "text": [
      "5\n"
     ]
    }
   ],
   "source": [
    "import torch\n",
    "a = torch.rand([5,2,7])\n",
    "\n",
    "print(a.shape[0])"
   ]
  },
  {
   "cell_type": "code",
   "execution_count": 61,
   "metadata": {},
   "outputs": [
    {
     "name": "stderr",
     "output_type": "stream",
     "text": [
      " 20%|██        | 20/100 [00:00<00:00, 98.14it/s]"
     ]
    },
    {
     "name": "stdout",
     "output_type": "stream",
     "text": [
      "0\n",
      "1\n",
      "2\n",
      "3\n",
      "4\n",
      "5\n",
      "6\n",
      "7\n",
      "8\n",
      "9\n",
      "10\n",
      "11\n",
      "12\n",
      "13\n",
      "14\n",
      "15\n",
      "16\n",
      "17\n",
      "18\n",
      "19\n"
     ]
    },
    {
     "name": "stderr",
     "output_type": "stream",
     "text": [
      "\r",
      " 30%|███       | 30/100 [00:00<00:00, 98.29it/s]"
     ]
    },
    {
     "name": "stdout",
     "output_type": "stream",
     "text": [
      "20\n",
      "21\n",
      "22\n",
      "23\n",
      "24\n",
      "25\n",
      "26\n",
      "27\n",
      "28\n",
      "29\n",
      "30\n",
      "31\n",
      "32\n",
      "33\n",
      "34\n",
      "35\n",
      "36\n",
      "37\n",
      "38\n",
      "39\n"
     ]
    },
    {
     "name": "stderr",
     "output_type": "stream",
     "text": [
      " 50%|█████     | 50/100 [00:00<00:00, 98.17it/s]"
     ]
    },
    {
     "name": "stdout",
     "output_type": "stream",
     "text": [
      "40\n",
      "41\n",
      "42\n",
      "43\n",
      "44\n",
      "45\n",
      "46\n",
      "47\n",
      "48\n",
      "49\n",
      "50\n",
      "51\n",
      "52\n",
      "53\n",
      "54\n",
      "55\n",
      "56\n",
      "57\n",
      "58\n",
      "59\n"
     ]
    },
    {
     "name": "stderr",
     "output_type": "stream",
     "text": [
      " 70%|███████   | 70/100 [00:00<00:00, 98.03it/s]"
     ]
    },
    {
     "name": "stdout",
     "output_type": "stream",
     "text": [
      "60\n",
      "61\n",
      "62\n",
      "63\n",
      "64\n",
      "65\n",
      "66\n",
      "67\n",
      "68\n",
      "69\n",
      "70\n",
      "71\n",
      "72\n",
      "73\n",
      "74\n",
      "75\n",
      "76\n",
      "77\n",
      "78\n",
      "79\n"
     ]
    },
    {
     "name": "stderr",
     "output_type": "stream",
     "text": [
      " 90%|█████████ | 90/100 [00:00<00:00, 98.01it/s]"
     ]
    },
    {
     "name": "stdout",
     "output_type": "stream",
     "text": [
      "80\n",
      "81\n",
      "82\n",
      "83\n",
      "84\n",
      "85\n",
      "86\n",
      "87\n",
      "88\n",
      "89\n",
      "90\n",
      "91\n",
      "92\n",
      "93\n",
      "94\n",
      "95\n",
      "96\n",
      "97\n",
      "98\n",
      "99\n"
     ]
    },
    {
     "name": "stderr",
     "output_type": "stream",
     "text": [
      "100%|██████████| 100/100 [00:01<00:00, 98.00it/s]\n"
     ]
    }
   ],
   "source": [
    "from tqdm import tqdm\n",
    "import numpy as np\n",
    "from time import sleep\n",
    "for idx, i in enumerate(tqdm(np.arange(100))):\n",
    "    print(idx)\n",
    "    sleep(0.01)"
   ]
  }
 ],
 "metadata": {
  "kernelspec": {
   "display_name": "Python 3",
   "language": "python",
   "name": "python3"
  },
  "language_info": {
   "codemirror_mode": {
    "name": "ipython",
    "version": 3
   },
   "file_extension": ".py",
   "mimetype": "text/x-python",
   "name": "python",
   "nbconvert_exporter": "python",
   "pygments_lexer": "ipython3",
   "version": "3.7.4"
  }
 },
 "nbformat": 4,
 "nbformat_minor": 2
}
