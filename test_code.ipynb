{
 "cells": [
  {
   "cell_type": "code",
   "execution_count": 7,
   "metadata": {},
   "outputs": [
    {
     "name": "stdout",
     "output_type": "stream",
     "text": [
      "tensor([-1.0000, -0.8667, -0.7333, -0.6000, -0.4667, -0.3333, -0.2000, -0.0667,\n",
      "         0.0667,  0.2000,  0.3333,  0.4667,  0.6000,  0.7333,  0.8667,  1.0000])\n",
      "tensor([[-1.0000],\n",
      "        [-0.8667],\n",
      "        [-0.7333],\n",
      "        [-0.6000],\n",
      "        [-0.4667],\n",
      "        [-0.3333],\n",
      "        [-0.2000],\n",
      "        [-0.0667],\n",
      "        [ 0.0667],\n",
      "        [ 0.2000],\n",
      "        [ 0.3333],\n",
      "        [ 0.4667],\n",
      "        [ 0.6000],\n",
      "        [ 0.7333],\n",
      "        [ 0.8667],\n",
      "        [ 1.0000]])\n",
      "tensor([[-2.5206e+10],\n",
      "        [-2.5206e+10],\n",
      "        [-2.5206e+10],\n",
      "        [-2.5206e+10],\n",
      "        [-2.5206e+10],\n",
      "        [-2.5206e+10],\n",
      "        [-2.5206e+10],\n",
      "        [-2.5206e+10],\n",
      "        [-2.5206e+10],\n",
      "        [-2.5206e+10],\n",
      "        [-2.5206e+10],\n",
      "        [-2.5206e+10],\n",
      "        [-2.5206e+10],\n",
      "        [-2.5206e+10],\n",
      "        [-2.5206e+10],\n",
      "        [-2.5206e+10]])\n",
      "torch.Size([2, 16, 1])\n"
     ]
    },
    {
     "name": "stderr",
     "output_type": "stream",
     "text": [
      "/home/lrh/anaconda3/lib/python3.7/site-packages/ipykernel_launcher.py:6: UserWarning: torch.range is deprecated in favor of torch.arange and will be removed in 0.5. Note that arange generates values in [start; end), not [start; end].\n",
      "  \n",
      "/home/lrh/anaconda3/lib/python3.7/site-packages/ipykernel_launcher.py:8: UserWarning: torch.range is deprecated in favor of torch.arange and will be removed in 0.5. Note that arange generates values in [start; end), not [start; end].\n",
      "  \n"
     ]
    }
   ],
   "source": [
    "import torch\n",
    "height = width = 16\n",
    "\n",
    "height_gap = 2 / (height - 1)\n",
    "width_gap = 2 / (width - 1)\n",
    "height, width = torch.meshgrid([torch.range(-1, 1, height_gap), torch.Tensor(1)])\n",
    "\n",
    "print(torch.range(-1, 1, height_gap))\n",
    "print(height)\n",
    "\n",
    "print(width)\n",
    "\n",
    "lr_identity = torch.stack([width, height])\n",
    "\n",
    "\n",
    "print(lr_identity.shape)"
   ]
  },
  {
   "cell_type": "code",
   "execution_count": 27,
   "metadata": {},
   "outputs": [
    {
     "name": "stdout",
     "output_type": "stream",
     "text": [
      "(1, 2, 3, 4)\n"
     ]
    }
   ],
   "source": [
    "a = [1,2,3,4]\n",
    "def func(a):\n",
    "    yield a[0], a[1], a[2], a[3]\n",
    "    \n",
    "for i in func(a):\n",
    "    print(i)"
   ]
  },
  {
   "cell_type": "code",
   "execution_count": 10,
   "metadata": {},
   "outputs": [
    {
     "name": "stdout",
     "output_type": "stream",
     "text": [
      "{1, 2, 3, 4}\n",
      "1\n",
      "1\n",
      "2\n",
      "3\n"
     ]
    }
   ],
   "source": [
    "a = [1,2,3,4]\n",
    "print(set(a))\n",
    "def func(a):\n",
    "    yield a[0]\n",
    "    for i in range(len(a[1:])):\n",
    "        yield a[i]\n",
    "    \n",
    "for i in func(a):\n",
    "    print(i)"
   ]
  },
  {
   "cell_type": "code",
   "execution_count": 8,
   "metadata": {},
   "outputs": [
    {
     "name": "stdout",
     "output_type": "stream",
     "text": [
      "True\n"
     ]
    }
   ],
   "source": [
    "a = True\n",
    "b = True\n",
    "\n",
    "a and b\n",
    "\n",
    "\n",
    "import random\n",
    "a = random.random()\n",
    "print(a < 0.5)\n",
    "\n",
    "b = b and random.random() < 0.5"
   ]
  }
 ],
 "metadata": {
  "kernelspec": {
   "display_name": "Python 3",
   "language": "python",
   "name": "python3"
  },
  "language_info": {
   "codemirror_mode": {
    "name": "ipython",
    "version": 3
   },
   "file_extension": ".py",
   "mimetype": "text/x-python",
   "name": "python",
   "nbconvert_exporter": "python",
   "pygments_lexer": "ipython3",
   "version": "3.7.4"
  }
 },
 "nbformat": 4,
 "nbformat_minor": 2
}
